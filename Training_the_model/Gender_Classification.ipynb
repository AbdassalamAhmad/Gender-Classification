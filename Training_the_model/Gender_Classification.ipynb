{
  "nbformat": 4,
  "nbformat_minor": 0,
  "metadata": {
    "colab": {
      "name": "Gender Classification",
      "provenance": [],
      "collapsed_sections": [],
      "authorship_tag": "ABX9TyMfJRQgkjnRHqgjhFpCh2YO",
      "include_colab_link": true
    },
    "kernelspec": {
      "name": "python3",
      "display_name": "Python 3"
    },
    "language_info": {
      "name": "python"
    },
    "accelerator": "GPU"
  },
  "cells": [
    {
      "cell_type": "markdown",
      "metadata": {
        "id": "view-in-github",
        "colab_type": "text"
      },
      "source": [
        "<a href=\"https://colab.research.google.com/github/AbdassalamAhmad/Gender-Classification/blob/main/Gender_Classification.ipynb\" target=\"_parent\"><img src=\"https://colab.research.google.com/assets/colab-badge.svg\" alt=\"Open In Colab\"/></a>"
      ]
    },
    {
      "cell_type": "markdown",
      "source": [
        "# Gender Classification using Xception model"
      ],
      "metadata": {
        "id": "Gl-qrkVIw1TQ"
      }
    },
    {
      "cell_type": "code",
      "execution_count": 2,
      "metadata": {
        "id": "vSPLnr7FzGwY"
      },
      "outputs": [],
      "source": [
        "import numpy as np\n",
        "import pandas as pd\n",
        "import matplotlib.pyplot as plt\n",
        "%matplotlib inline\n",
        "\n",
        "import tensorflow as tf\n",
        "from tensorflow import keras\n",
        "from tensorflow.keras.applications import Xception\n",
        "from tensorflow.keras.models import Sequential\n",
        "from tensorflow.keras.layers import Dense, Flatten, BatchNormalization\n",
        "from tensorflow.keras.preprocessing.image import ImageDataGenerator\n",
        "from tensorflow.keras.preprocessing.image import load_img, img_to_array\n"
      ]
    },
    {
      "cell_type": "markdown",
      "source": [
        "# Getting Dataset"
      ],
      "metadata": {
        "id": "1BWACzGhtoTH"
      }
    },
    {
      "cell_type": "code",
      "source": [
        "!git clone https://github.com/laxmimerit/male-female-face-dataset.git"
      ],
      "metadata": {
        "colab": {
          "base_uri": "https://localhost:8080/"
        },
        "id": "XVdc4bAhq2-N",
        "outputId": "250cada5-19b3-424e-f232-fd47fd738439"
      },
      "execution_count": 3,
      "outputs": [
        {
          "output_type": "stream",
          "name": "stdout",
          "text": [
            "fatal: destination path 'male-female-face-dataset' already exists and is not an empty directory.\n"
          ]
        }
      ]
    },
    {
      "cell_type": "markdown",
      "source": [
        "### Declaring Variables"
      ],
      "metadata": {
        "id": "0osib7Tzw-P7"
      }
    },
    {
      "cell_type": "code",
      "source": [
        "batch_size = 128\n",
        "size = 224 #width and height\n",
        "target_size = (size, size, 3)\n",
        "\n",
        "epochs = 2\n",
        "lr = 1e-3\n"
      ],
      "metadata": {
        "id": "28gdroKitOib"
      },
      "execution_count": 4,
      "outputs": []
    },
    {
      "cell_type": "markdown",
      "source": [
        "# Image Data Generator (without augmentation)"
      ],
      "metadata": {
        "id": "0N_owgSctuMe"
      }
    },
    {
      "cell_type": "code",
      "source": [
        "train_datagen = ImageDataGenerator(rescale=1./255)"
      ],
      "metadata": {
        "id": "pI1k5J0UtdMW"
      },
      "execution_count": 5,
      "outputs": []
    },
    {
      "cell_type": "code",
      "source": [
        "val_datagen = ImageDataGenerator(rescale=1./255)"
      ],
      "metadata": {
        "id": "p5fVlfrXugnJ"
      },
      "execution_count": 6,
      "outputs": []
    },
    {
      "cell_type": "code",
      "source": [
        "train_dataset = train_datagen.flow_from_directory(\n",
        "    directory = '/content/male-female-face-dataset/Training',\n",
        "    target_size = (size, size),\n",
        "    batch_size = batch_size,\n",
        "    class_mode = 'binary'\n",
        ")"
      ],
      "metadata": {
        "colab": {
          "base_uri": "https://localhost:8080/"
        },
        "id": "ljWYidQ1uoqO",
        "outputId": "675ff235-a9a3-47f3-e1db-2ad7e8757cf3"
      },
      "execution_count": 7,
      "outputs": [
        {
          "output_type": "stream",
          "name": "stdout",
          "text": [
            "Found 47009 images belonging to 2 classes.\n"
          ]
        }
      ]
    },
    {
      "cell_type": "code",
      "source": [
        "val_dataset = val_datagen.flow_from_directory(\n",
        "    directory = '/content/male-female-face-dataset/Validation',\n",
        "    target_size = (size, size),\n",
        "    batch_size = batch_size,\n",
        "    class_mode = 'binary'\n",
        ")"
      ],
      "metadata": {
        "colab": {
          "base_uri": "https://localhost:8080/"
        },
        "id": "wU5zlixdvElo",
        "outputId": "b0d99530-74f2-4836-a0c2-e2092f7c4077"
      },
      "execution_count": 8,
      "outputs": [
        {
          "output_type": "stream",
          "name": "stdout",
          "text": [
            "Found 11649 images belonging to 2 classes.\n"
          ]
        }
      ]
    },
    {
      "cell_type": "markdown",
      "source": [
        "# Building Xception Model"
      ],
      "metadata": {
        "id": "wHUYKims4lpr"
      }
    },
    {
      "cell_type": "code",
      "source": [
        "#base\n",
        "model = Sequential()\n",
        "model.add(Xception(include_top=False, pooling='avg', weights='imagenet', input_shape=target_size))\n",
        "model.add(Flatten())\n",
        "model.add(BatchNormalization())\n",
        "#head\n",
        "model.add(Dense(2048, activation='relu'))\n",
        "model.add(BatchNormalization())\n",
        "model.add(Dense(1024, activation='relu'))\n",
        "model.add(BatchNormalization())\n",
        "\n",
        "model.add(Dense(1, activation='sigmoid'))\n",
        "\n",
        "model.layers[0].trainable = False"
      ],
      "metadata": {
        "colab": {
          "base_uri": "https://localhost:8080/"
        },
        "id": "7h-5WSjZwI3e",
        "outputId": "9718a17a-60c9-49a2-e40d-762eaec89db7"
      },
      "execution_count": 9,
      "outputs": [
        {
          "output_type": "stream",
          "name": "stdout",
          "text": [
            "Downloading data from https://storage.googleapis.com/tensorflow/keras-applications/xception/xception_weights_tf_dim_ordering_tf_kernels_notop.h5\n",
            "83689472/83683744 [==============================] - 1s 0us/step\n",
            "83697664/83683744 [==============================] - 1s 0us/step\n"
          ]
        }
      ]
    },
    {
      "cell_type": "code",
      "source": [
        "model.summary()"
      ],
      "metadata": {
        "colab": {
          "base_uri": "https://localhost:8080/"
        },
        "id": "Y4Hl-dlk1szL",
        "outputId": "a3250bab-2973-4cc6-d9cf-e2229d9f5640"
      },
      "execution_count": 10,
      "outputs": [
        {
          "output_type": "stream",
          "name": "stdout",
          "text": [
            "Model: \"sequential\"\n",
            "_________________________________________________________________\n",
            " Layer (type)                Output Shape              Param #   \n",
            "=================================================================\n",
            " xception (Functional)       (None, 2048)              20861480  \n",
            "                                                                 \n",
            " flatten (Flatten)           (None, 2048)              0         \n",
            "                                                                 \n",
            " batch_normalization_4 (Batc  (None, 2048)             8192      \n",
            " hNormalization)                                                 \n",
            "                                                                 \n",
            " dense (Dense)               (None, 2048)              4196352   \n",
            "                                                                 \n",
            " batch_normalization_5 (Batc  (None, 2048)             8192      \n",
            " hNormalization)                                                 \n",
            "                                                                 \n",
            " dense_1 (Dense)             (None, 1024)              2098176   \n",
            "                                                                 \n",
            " batch_normalization_6 (Batc  (None, 1024)             4096      \n",
            " hNormalization)                                                 \n",
            "                                                                 \n",
            " dense_2 (Dense)             (None, 1)                 1025      \n",
            "                                                                 \n",
            "=================================================================\n",
            "Total params: 27,177,513\n",
            "Trainable params: 6,305,793\n",
            "Non-trainable params: 20,871,720\n",
            "_________________________________________________________________\n"
          ]
        }
      ]
    },
    {
      "cell_type": "code",
      "source": [
        "model.compile(optimizer= 'Adam', loss = 'binary_crossentropy', metrics= 'accuracy')"
      ],
      "metadata": {
        "id": "_p8VjMEzwt4l"
      },
      "execution_count": 11,
      "outputs": []
    },
    {
      "cell_type": "code",
      "source": [
        "checkpoint = tf.keras.callbacks.ModelCheckpoint('xception_v1_{epoch:02d}_{val_accuracy:.3f}.h5',\n",
        "                                             save_best_only = True,\n",
        "                                             monitor= 'val_accuracy',\n",
        "                                             mode = 'max')"
      ],
      "metadata": {
        "id": "9W5puTfn1H2w"
      },
      "execution_count": 12,
      "outputs": []
    },
    {
      "cell_type": "code",
      "source": [
        "history = model.fit(train_dataset, epochs= epochs, validation_data= val_dataset,\n",
        "                    steps_per_epoch= len(train_dataset.filenames)//batch_size,\n",
        "                    validation_steps= len(val_dataset.filenames)//batch_size,\n",
        "                    callbacks= [checkpoint]\n",
        "                    )"
      ],
      "metadata": {
        "colab": {
          "base_uri": "https://localhost:8080/"
        },
        "id": "-XWV4-FZ1WFx",
        "outputId": "047c3370-72ca-4746-8918-e99555649d70"
      },
      "execution_count": 14,
      "outputs": [
        {
          "output_type": "stream",
          "name": "stdout",
          "text": [
            "Epoch 1/2\n",
            "367/367 [==============================] - 497s 1s/step - loss: 0.1904 - accuracy: 0.9273 - val_loss: 0.1701 - val_accuracy: 0.9325\n",
            "Epoch 2/2\n",
            "367/367 [==============================] - 494s 1s/step - loss: 0.1625 - accuracy: 0.9379 - val_loss: 0.2020 - val_accuracy: 0.9200\n"
          ]
        }
      ]
    },
    {
      "cell_type": "markdown",
      "source": [
        "# Testing the Model"
      ],
      "metadata": {
        "id": "iBliTFPvRDPl"
      }
    },
    {
      "cell_type": "code",
      "source": [
        "img_path = '/content/male-female-face-dataset/Validation/male/063429.jpg.jpg'\n",
        "#img_path = '/content/WIN_20220217_06_43_27_Pro.jpg'\n",
        "#img_path = '/content/male-female-face-dataset/Validation/female/112944.jpg.jpg'\n",
        "#plt.imshow(img)"
      ],
      "metadata": {
        "id": "ZlKyaykDRGrx"
      },
      "execution_count": 15,
      "outputs": []
    },
    {
      "cell_type": "code",
      "source": [
        "def predict_img(img_path):\n",
        "  #preprocess Image\n",
        "  img = load_img(img_path, target_size=(target_size))\n",
        "  img = img_to_array(img)\n",
        "  img = img/255.0\n",
        "  img=img.reshape(1, size, size, 3)\n",
        "\n",
        "  #Prediction\n",
        "  pred = model.predict(img)\n",
        "  pred = pred[0][0]  \n",
        "  if pred>=0.5:\n",
        "    result = \"Male, Confidence is {:.2f}\".format(pred)\n",
        "    return result\n",
        "  else:\n",
        "    pred = 1-pred\n",
        "    result = \"Female, Confidence is {:.2f}\".format(pred)\n",
        "    return result\n",
        "predict_img(img_path)"
      ],
      "metadata": {
        "colab": {
          "base_uri": "https://localhost:8080/",
          "height": 35
        },
        "id": "l5Kqe10jSjqf",
        "outputId": "587ff87c-9df7-4326-8214-7e0a04b28eb9"
      },
      "execution_count": 16,
      "outputs": [
        {
          "output_type": "execute_result",
          "data": {
            "application/vnd.google.colaboratory.intrinsic+json": {
              "type": "string"
            },
            "text/plain": [
              "'Male, Confidence is 0.98'"
            ]
          },
          "metadata": {},
          "execution_count": 16
        }
      ]
    },
    {
      "cell_type": "markdown",
      "source": [
        "# Training with Data Augmentation"
      ],
      "metadata": {
        "id": "E8hwH-xlwks9"
      }
    },
    {
      "cell_type": "code",
      "source": [
        "train_datagen = ImageDataGenerator(horizontal_flip=True,\n",
        "                                   width_shift_range=0.4,\n",
        "                                   height_shift_range=0.4,\n",
        "                                   zoom_range=0.3,\n",
        "                                   rotation_range=20,\n",
        "                                   rescale=1./255)\n",
        "\n",
        "train_dataset = train_datagen.flow_from_directory(\n",
        "    directory = '/content/male-female-face-dataset/Training',\n",
        "    target_size = (size, size),\n",
        "    batch_size = batch_size,\n",
        "    class_mode = 'binary'\n",
        ")"
      ],
      "metadata": {
        "colab": {
          "base_uri": "https://localhost:8080/"
        },
        "id": "VH-TddppGFjG",
        "outputId": "b993cfe8-e58d-4057-d258-e6aa71ff0963"
      },
      "execution_count": 17,
      "outputs": [
        {
          "output_type": "stream",
          "name": "stdout",
          "text": [
            "Found 47009 images belonging to 2 classes.\n"
          ]
        }
      ]
    },
    {
      "cell_type": "code",
      "source": [
        "epochs = 10\n",
        "checkpoint = tf.keras.callbacks.ModelCheckpoint('xception_v2_{epoch:02d}_{val_accuracy:.3f}.h5',\n",
        "                                             save_best_only = True,\n",
        "                                             monitor= 'val_accuracy',\n",
        "                                             mode = 'max')\n",
        "\n",
        "history = model.fit(train_dataset, epochs= epochs, validation_data= val_dataset,\n",
        "                    steps_per_epoch= len(train_dataset.filenames)//batch_size,\n",
        "                    validation_steps= len(val_dataset.filenames)//batch_size,\n",
        "                    callbacks= [checkpoint]\n",
        "                    )"
      ],
      "metadata": {
        "colab": {
          "base_uri": "https://localhost:8080/"
        },
        "id": "2JeKaPVnkoCI",
        "outputId": "1a6bcfa1-d1cc-4762-e989-64b9f37f801d"
      },
      "execution_count": null,
      "outputs": [
        {
          "output_type": "stream",
          "name": "stdout",
          "text": [
            "Epoch 1/10\n",
            "367/367 [==============================] - 786s 2s/step - loss: 0.3279 - accuracy: 0.8594 - val_loss: 0.2020 - val_accuracy: 0.9172\n",
            "Epoch 2/10\n",
            "367/367 [==============================] - 791s 2s/step - loss: 0.3028 - accuracy: 0.8732 - val_loss: 0.2152 - val_accuracy: 0.9126\n",
            "Epoch 3/10\n",
            "367/367 [==============================] - 792s 2s/step - loss: 0.2930 - accuracy: 0.8766 - val_loss: 0.1903 - val_accuracy: 0.9253\n",
            "Epoch 4/10\n",
            "367/367 [==============================] - 778s 2s/step - loss: 0.2845 - accuracy: 0.8830 - val_loss: 0.1905 - val_accuracy: 0.9222\n",
            "Epoch 5/10\n",
            "367/367 [==============================] - 786s 2s/step - loss: 0.2809 - accuracy: 0.8831 - val_loss: 0.1844 - val_accuracy: 0.9257\n",
            "Epoch 6/10\n",
            "367/367 [==============================] - 798s 2s/step - loss: 0.2781 - accuracy: 0.8842 - val_loss: 0.1861 - val_accuracy: 0.9234\n",
            "Epoch 7/10\n",
            "367/367 [==============================] - 796s 2s/step - loss: 0.2752 - accuracy: 0.8851 - val_loss: 0.1854 - val_accuracy: 0.9263\n",
            "Epoch 8/10\n",
            "367/367 [==============================] - 788s 2s/step - loss: 0.2726 - accuracy: 0.8866 - val_loss: 0.1856 - val_accuracy: 0.9236\n",
            "Epoch 9/10\n",
            "119/367 [========>.....................] - ETA: 7:46 - loss: 0.2690 - accuracy: 0.8898"
          ]
        }
      ]
    },
    {
      "cell_type": "code",
      "source": [
        ""
      ],
      "metadata": {
        "id": "bNr5xmUuldzy"
      },
      "execution_count": null,
      "outputs": []
    }
  ]
}